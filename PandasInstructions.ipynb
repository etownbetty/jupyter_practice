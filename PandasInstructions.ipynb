{
 "cells": [
  {
   "cell_type": "markdown",
   "metadata": {},
   "source": [
    "## Try out Pandas for Python"
   ]
  },
  {
   "cell_type": "markdown",
   "metadata": {},
   "source": [
    "FIrst download and install Anaconda, which will make it way easier to install new packages - as a matter of fact, lots of packages come with the Anaconda install"
   ]
  },
  {
   "cell_type": "markdown",
   "metadata": {},
   "source": [
    "1. Go to the Anaconda download [site](https://www.continuum.io/downloads)\n",
    "1. Copy the Linux link\n",
    "```\n",
    "wget http://repo.continuum.io/archive/Anaconda2-4.1.1-Linux-x86_64.sh\n",
    "```\n",
    "1. run the .sh install file that was downloaded using ``bash Anaconda1-4.1.1-Linux-x86_64.sh`` command and specify an install location (oh, and don't worry about putting the path into your bashrc, the installer automatically puts it there for you!)\n",
    "1. Go ahead and start up python and you will see that the pandas package is now available - don't forget to `import pandas as pd` and you are ready to roll!"
   ]
  },
  {
   "cell_type": "markdown",
   "metadata": {},
   "source": [
    "There is a lovely tutorial in the Awesome_Python git pages on Python vs R that illustrates the use of pandas data frames: https://www.codementor.io/python/tutorial/python-vs-r-for-data-science-data-frames-i"
   ]
  },
  {
   "cell_type": "markdown",
   "metadata": {},
   "source": [
    "### Go through the tutorial that illustrates differences between Python and R to do the same data frame manipulations"
   ]
  },
  {
   "cell_type": "markdown",
   "metadata": {},
   "source": [
    "1. import the correct library to grab data from the web using: `import urllib` \n",
    "2. grab a csv data set from google docs:\n",
    "    ``` tb_existing_url_csv = 'https://docs.google.com/spreadsheets/d/1X5Jp7Q8pTs3KLJ5JBWKhncVACGsg5v4xu6badNs4C7I/pub?gid=0&output=csv'\n",
    "    local_tb_existing_file = 'tb_existing_100.csv'\n",
    "    existing_f = urllib.urlretrieve(tb_existing_url_csv, local_tb_existing_file)\n",
    "    ```\n",
    "    \n",
    "3. do some exploratory data analysis:\n",
    "\n",
    "    ```df_summary = existing_df.describe()\n",
    "    df_summary\n",
    "    ```\n",
    "    \n"
   ]
  },
  {
   "cell_type": "markdown",
   "metadata": {},
   "source": []
  },
  {
   "cell_type": "markdown",
   "metadata": {},
   "source": [
    "\n"
   ]
  },
  {
   "cell_type": "markdown",
   "metadata": {
    "collapsed": true
   },
   "source": [
    "anything"
   ]
  },
  {
   "cell_type": "code",
   "execution_count": null,
   "metadata": {
    "collapsed": true
   },
   "outputs": [],
   "source": []
  },
  {
   "cell_type": "code",
   "execution_count": null,
   "metadata": {
    "collapsed": true
   },
   "outputs": [],
   "source": []
  }
 ],
 "metadata": {
  "kernelspec": {
   "display_name": "Python [Root]",
   "language": "python",
   "name": "Python [Root]"
  },
  "language_info": {
   "codemirror_mode": {
    "name": "ipython",
    "version": 2
   },
   "file_extension": ".py",
   "mimetype": "text/x-python",
   "name": "python",
   "nbconvert_exporter": "python",
   "pygments_lexer": "ipython2",
   "version": "2.7.12"
  }
 },
 "nbformat": 4,
 "nbformat_minor": 0
}
