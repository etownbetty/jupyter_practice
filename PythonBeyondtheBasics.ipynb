{
 "cells": [
  {
   "cell_type": "markdown",
   "metadata": {},
   "source": [
    "## Python: What I learned in Beyond the Basics"
   ]
  },
  {
   "cell_type": "markdown",
   "metadata": {},
   "source": [
    "### Generators"
   ]
  },
  {
   "cell_type": "markdown",
   "metadata": {},
   "source": [
    "There is a better way to loop through data than a LOOP!\n",
    "It's called a generator. It's great if you want to do something complex to a set that is being created on the fly."
   ]
  },
  {
   "cell_type": "markdown",
   "metadata": {},
   "source": [
    "The main difference is that you YIELD something from a function instead of return."
   ]
  },
  {
   "cell_type": "code",
   "execution_count": 11,
   "metadata": {
    "collapsed": false
   },
   "outputs": [],
   "source": [
    "def cubes(max_cubes):\n",
    "    for n in range(max_cubes):\n",
    "        yield n**3"
   ]
  },
  {
   "cell_type": "code",
   "execution_count": 12,
   "metadata": {
    "collapsed": false
   },
   "outputs": [
    {
     "name": "stdout",
     "output_type": "stream",
     "text": [
      "0\n",
      "1\n",
      "8\n"
     ]
    }
   ],
   "source": [
    "cube_set = cubes(3)\n",
    "for i in cube_set:\n",
    "    print(i)"
   ]
  },
  {
   "cell_type": "code",
   "execution_count": 13,
   "metadata": {
    "collapsed": false
   },
   "outputs": [
    {
     "data": {
      "text/plain": [
       "generator"
      ]
     },
     "execution_count": 13,
     "metadata": {},
     "output_type": "execute_result"
    }
   ],
   "source": [
    "type(cube_set)"
   ]
  },
  {
   "cell_type": "markdown",
   "metadata": {},
   "source": [
    "You can have more than one YIELD statement:"
   ]
  },
  {
   "cell_type": "code",
   "execution_count": 14,
   "metadata": {
    "collapsed": false
   },
   "outputs": [
    {
     "name": "stdout",
     "output_type": "stream",
     "text": [
      "10\n",
      "9\n",
      "8\n",
      "7\n",
      "6\n",
      "5\n",
      "4\n",
      "3\n",
      "2\n",
      "1\n",
      "BLASTOFF!\n"
     ]
    }
   ],
   "source": [
    "def countdown(max_count):\n",
    "    for n in range(max_count,0, -1):\n",
    "        yield n\n",
    "    yield \"BLASTOFF!\"\n",
    "\n",
    "count10 = countdown(10)\n",
    "for i in count10:\n",
    "    print(i)"
   ]
  },
  {
   "cell_type": "markdown",
   "metadata": {},
   "source": [
    "### Dictionaries"
   ]
  },
  {
   "cell_type": "markdown",
   "metadata": {},
   "source": [
    "In Python3, you can access items in a dictionary in a different way than Python2. For example:"
   ]
  },
  {
   "cell_type": "code",
   "execution_count": 16,
   "metadata": {
    "collapsed": false
   },
   "outputs": [
    {
     "data": {
      "text/plain": [
       "dict_items"
      ]
     },
     "execution_count": 16,
     "metadata": {},
     "output_type": "execute_result"
    }
   ],
   "source": [
    "my_dict = {\"Dan\": \"Dad\", \"Karey\":\"Mom\", \"Alistair\":\"Baby\", \"Leonard\":\"Uncle\"}\n",
    "items = my_dict.items() #returns a dictionary view object\n",
    "type(items)\n",
    "#it's a dictionary view item if it's iterable, if it has key value pairs and len(view) returns the length"
   ]
  },
  {
   "cell_type": "code",
   "execution_count": 26,
   "metadata": {
    "collapsed": false
   },
   "outputs": [
    {
     "name": "stdout",
     "output_type": "stream",
     "text": [
      "there are 4 people in the house\n",
      "Alistair is the Baby\n",
      "Karey is the Mom\n",
      "Dan is the Dad\n",
      "Leonard is the Uncle\n"
     ]
    }
   ],
   "source": [
    "print(\"there are \" + str(len(my_dict.items()))+ \" people in the house\")\n",
    "for name, title in my_dict.items():\n",
    "    print(name + \" is the \" + title)"
   ]
  },
  {
   "cell_type": "markdown",
   "metadata": {},
   "source": [
    "If you need an actual list of keys or values:"
   ]
  },
  {
   "cell_type": "code",
   "execution_count": 27,
   "metadata": {
    "collapsed": false
   },
   "outputs": [
    {
     "data": {
      "text/plain": [
       "['Alistair', 'Karey', 'Dan', 'Leonard']"
      ]
     },
     "execution_count": 27,
     "metadata": {},
     "output_type": "execute_result"
    }
   ],
   "source": [
    "names = my_dict.keys()\n",
    "titles = my_dict.values() #both are views, by the way\n",
    "list(names)"
   ]
  },
  {
   "cell_type": "markdown",
   "metadata": {},
   "source": [
    "### List Comprehensions"
   ]
  },
  {
   "cell_type": "markdown",
   "metadata": {},
   "source": [
    "List comprehension is a way to create a list in Python"
   ]
  },
  {
   "cell_type": "code",
   "execution_count": 28,
   "metadata": {
    "collapsed": true
   },
   "outputs": [],
   "source": [
    "#create a list of squares\n",
    "squares = [n**2 for n in range(5)] #can replace a loop in python"
   ]
  },
  {
   "cell_type": "code",
   "execution_count": 29,
   "metadata": {
    "collapsed": false
   },
   "outputs": [
    {
     "name": "stdout",
     "output_type": "stream",
     "text": [
      "[0, 1, 4, 9, 16]\n"
     ]
    }
   ],
   "source": [
    "print(squares)"
   ]
  },
  {
   "cell_type": "markdown",
   "metadata": {},
   "source": [
    "The format is [ EXPR for VAR in SEQ ] where SEQ can be anything, list, tuple, iterator or set, EXPR can be any python expression (arithmetic, slice operation, method calls)"
   ]
  },
  {
   "cell_type": "markdown",
   "metadata": {},
   "source": [
    "Must have ***for and in*** keywords"
   ]
  },
  {
   "cell_type": "code",
   "execution_count": 32,
   "metadata": {
    "collapsed": false
   },
   "outputs": [
    {
     "data": {
      "text/plain": [
       "[3, 5, 11, 21, 35]"
      ]
     },
     "execution_count": 32,
     "metadata": {},
     "output_type": "execute_result"
    }
   ],
   "source": [
    "#examples\n",
    "[2*n+3 for n in squares]"
   ]
  },
  {
   "cell_type": "code",
   "execution_count": 34,
   "metadata": {
    "collapsed": false
   },
   "outputs": [
    {
     "data": {
      "text/plain": [
       "['MYSHI', 'ZIGGY', 'COOKIE', 'PUMPKIN', 'JEAN']"
      ]
     },
     "execution_count": 34,
     "metadata": {},
     "output_type": "execute_result"
    }
   ],
   "source": [
    "kitties = [\"myshi\", \"ziggy\", \"cookie\", \"pumpkin\", \"jean\"]\n",
    "[n.upper() for n in kitties]"
   ]
  },
  {
   "cell_type": "code",
   "execution_count": 45,
   "metadata": {
    "collapsed": false
   },
   "outputs": [
    {
     "data": {
      "text/plain": [
       "['ihsym', 'yggiz', 'eikooc', 'nikpmup', 'naej']"
      ]
     },
     "execution_count": 45,
     "metadata": {},
     "output_type": "execute_result"
    }
   ],
   "source": [
    "[n[::-1] for n in kitties]"
   ]
  },
  {
   "cell_type": "markdown",
   "metadata": {},
   "source": [
    "Can also evaluate a condition in a list comprehension: [ EXPR for VAR in SEQ if CONDITION ]"
   ]
  },
  {
   "cell_type": "code",
   "execution_count": 38,
   "metadata": {
    "collapsed": false
   },
   "outputs": [
    {
     "data": {
      "text/plain": [
       "['myshi', 'ziggy', 'cookie', 'pumpkin']"
      ]
     },
     "execution_count": 38,
     "metadata": {},
     "output_type": "execute_result"
    }
   ],
   "source": [
    "[n for n in kitties if len(n)> 4]"
   ]
  },
  {
   "cell_type": "code",
   "execution_count": 54,
   "metadata": {
    "collapsed": false
   },
   "outputs": [
    {
     "name": "stdout",
     "output_type": "stream",
     "text": [
      "[22, 27, 32]\n"
     ]
    }
   ],
   "source": [
    "#can spread the comprehension over lines for readability\n",
    "fivers = [5, 10, 15, 20, 25, 30]\n",
    "gt15mod = [2+n \n",
    " for n in fivers \n",
    " if n > 15 ]\n",
    "print(gt15mod)"
   ]
  },
  {
   "cell_type": "markdown",
   "metadata": {},
   "source": [
    "### Dictionary Comprehensions"
   ]
  },
  {
   "cell_type": "code",
   "execution_count": 55,
   "metadata": {
    "collapsed": false
   },
   "outputs": [
    {
     "name": "stdout",
     "output_type": "stream",
     "text": [
      "{0: '', 1: 'X', 2: 'XX', 3: 'XXX', 4: 'XXXX'}\n"
     ]
    }
   ],
   "source": [
    "blocks = {n: n*\"X\" for n in range(5)}\n",
    "print(blocks)"
   ]
  },
  {
   "cell_type": "markdown",
   "metadata": {},
   "source": [
    "### Generator Expressions"
   ]
  },
  {
   "cell_type": "code",
   "execution_count": 58,
   "metadata": {
    "collapsed": false
   },
   "outputs": [
    {
     "name": "stdout",
     "output_type": "stream",
     "text": [
      "<generator object <genexpr> at 0x104172888>\n",
      "0\n",
      "2\n",
      "4\n",
      "6\n",
      "8\n"
     ]
    }
   ],
   "source": [
    "gener = (n*2 for n in range(5))\n",
    "print(gener)\n",
    "for i in gener:\n",
    "    print(i)"
   ]
  },
  {
   "cell_type": "code",
   "execution_count": 59,
   "metadata": {
    "collapsed": false
   },
   "outputs": [
    {
     "data": {
      "text/plain": [
       "[1, 2, 3, 4, 5, 6, 7, 8, 9, 10]"
      ]
     },
     "execution_count": 59,
     "metadata": {},
     "output_type": "execute_result"
    }
   ],
   "source": [
    "# you can omit the extra parentheses if passing a generator expression to a function\n",
    "sorted(n for n in range(10,0, -1))"
   ]
  },
  {
   "cell_type": "markdown",
   "metadata": {},
   "source": [
    "### Assert instead of boolean"
   ]
  },
  {
   "cell_type": "code",
   "execution_count": 60,
   "metadata": {
    "collapsed": false
   },
   "outputs": [
    {
     "ename": "AssertionError",
     "evalue": "Houston, we have got a problem",
     "output_type": "error",
     "traceback": [
      "\u001b[0;31m---------------------------------------------------------------------------\u001b[0m",
      "\u001b[0;31mAssertionError\u001b[0m                            Traceback (most recent call last)",
      "\u001b[0;32m<ipython-input-60-89964c59949d>\u001b[0m in \u001b[0;36m<module>\u001b[0;34m()\u001b[0m\n\u001b[0;32m----> 1\u001b[0;31m \u001b[0;32massert\u001b[0m \u001b[0;36m2\u001b[0m\u001b[0;34m+\u001b[0m\u001b[0;36m2\u001b[0m\u001b[0;34m==\u001b[0m\u001b[0;36m5\u001b[0m\u001b[0;34m,\u001b[0m \u001b[0;34m\"Houston, we have got a problem\"\u001b[0m \u001b[0;31m#oh look, an assertion error, like a boolean that only evaluates with a False outcome\u001b[0m\u001b[0;34m\u001b[0m\u001b[0m\n\u001b[0m",
      "\u001b[0;31mAssertionError\u001b[0m: Houston, we have got a problem"
     ]
    }
   ],
   "source": [
    "assert 2+2==5, \"Houston, we have got a problem\" #oh look, an assertion error, like a boolean that only evaluates with a False outcome"
   ]
  },
  {
   "cell_type": "markdown",
   "metadata": {},
   "source": [
    "### Named Tuples "
   ]
  },
  {
   "cell_type": "code",
   "execution_count": 62,
   "metadata": {
    "collapsed": false
   },
   "outputs": [
    {
     "data": {
      "text/plain": [
       "'green'"
      ]
     },
     "execution_count": 62,
     "metadata": {},
     "output_type": "execute_result"
    }
   ],
   "source": [
    "from collections import namedtuple\n",
    "Animal = namedtuple(\"Animal\", \"name color carnivore mammal\")\n",
    "animal = Animal(\"frog\", \"green\", \"herbivore\", \"amphibian\")\n",
    "animal.color"
   ]
  },
  {
   "cell_type": "code",
   "execution_count": 63,
   "metadata": {
    "collapsed": false
   },
   "outputs": [
    {
     "data": {
      "text/plain": [
       "'amphibian'"
      ]
     },
     "execution_count": 63,
     "metadata": {},
     "output_type": "execute_result"
    }
   ],
   "source": [
    "animal.mammal"
   ]
  },
  {
   "cell_type": "markdown",
   "metadata": {},
   "source": [
    "It's a shortcut from making a class. It's like a regular tuple, except you can refer to fields by name."
   ]
  },
  {
   "cell_type": "code",
   "execution_count": 65,
   "metadata": {
    "collapsed": false
   },
   "outputs": [
    {
     "data": {
      "text/plain": [
       "'frog'"
      ]
     },
     "execution_count": 65,
     "metadata": {},
     "output_type": "execute_result"
    }
   ],
   "source": [
    "class Animal:\n",
    "    def __init__(self, name, color, carnivore, mammal):\n",
    "        self.name = name\n",
    "        self.color = color\n",
    "        self.carnivore = carnivore\n",
    "        \n",
    "animal = Animal(\"frog\", \"green\", \"herbivore\", \"amphibian\")\n",
    "animal.name"
   ]
  },
  {
   "cell_type": "code",
   "execution_count": 67,
   "metadata": {
    "collapsed": false
   },
   "outputs": [
    {
     "data": {
      "text/plain": [
       "37"
      ]
     },
     "execution_count": 67,
     "metadata": {},
     "output_type": "execute_result"
    }
   ],
   "source": [
    "location = namedtuple(\"location\", \"latitude longitude\")\n",
    "myplace = location(37, 144)\n",
    "myplace.latitude"
   ]
  },
  {
   "cell_type": "code",
   "execution_count": 68,
   "metadata": {
    "collapsed": false
   },
   "outputs": [
    {
     "data": {
      "text/plain": [
       "144"
      ]
     },
     "execution_count": 68,
     "metadata": {},
     "output_type": "execute_result"
    }
   ],
   "source": [
    "myplace.longitude"
   ]
  },
  {
   "cell_type": "markdown",
   "metadata": {},
   "source": [
    "### Default Dictionary"
   ]
  },
  {
   "cell_type": "code",
   "execution_count": 72,
   "metadata": {
    "collapsed": true
   },
   "outputs": [],
   "source": [
    "#works great to compress code\n",
    "from collections import defaultdict\n",
    "num = defaultdict(int)\n",
    "words = \"my brother is not a brother from another mother\".split()\n",
    "for word in words:\n",
    "    num[word] +=1"
   ]
  },
  {
   "cell_type": "code",
   "execution_count": 73,
   "metadata": {
    "collapsed": false
   },
   "outputs": [
    {
     "name": "stdout",
     "output_type": "stream",
     "text": [
      "defaultdict(<class 'int'>, {'not': 1, 'mother': 1, 'from': 1, 'is': 1, 'brother': 2, 'my': 1, 'another': 1, 'a': 1})\n"
     ]
    }
   ],
   "source": [
    "print(num)"
   ]
  },
  {
   "cell_type": "markdown",
   "metadata": {},
   "source": [
    "### Ordered Dictionary"
   ]
  },
  {
   "cell_type": "code",
   "execution_count": 82,
   "metadata": {
    "collapsed": false
   },
   "outputs": [
    {
     "name": "stdout",
     "output_type": "stream",
     "text": [
      "popo is the great grandma\n",
      "Dan is the dad\n",
      "Karey is the mom\n",
      "Rose is the grandma\n"
     ]
    }
   ],
   "source": [
    "#has all the same methods as the regular dictionary\n",
    "from collections import OrderedDict\n",
    "family = OrderedDict()\n",
    "family[\"great grandma\"] = \"popo\"\n",
    "family[\"dad\"] = \"Dan\"\n",
    "family[\"mom\"] = \"Karey\"\n",
    "family[\"grandma\"] = \"Rose\"\n",
    "\n",
    "for member, name in family.items():\n",
    "    print(name + \" is the \" + member)"
   ]
  },
  {
   "cell_type": "markdown",
   "metadata": {},
   "source": [
    "### Creating Classes"
   ]
  },
  {
   "cell_type": "markdown",
   "metadata": {},
   "source": [
    "\\__init\\__ is the constructor, all methods including init take \"self\" as the first argument"
   ]
  },
  {
   "cell_type": "code",
   "execution_count": 92,
   "metadata": {
    "collapsed": false
   },
   "outputs": [
    {
     "data": {
      "text/plain": [
       "True"
      ]
     },
     "execution_count": 92,
     "metadata": {},
     "output_type": "execute_result"
    }
   ],
   "source": [
    "class baby():\n",
    "    def __init__(self, name):\n",
    "        self.name = name\n",
    "class Dog(baby):\n",
    "    pass\n",
    "class Cat(baby):\n",
    "    pass\n",
    "        \n",
    "baby1 = baby(\"alistair\")\n",
    "baby1.name\n",
    "\n",
    "pet = Dog(\"fido\")\n",
    "isinstance(pet, baby)\n",
    "isinstance(baby1, baby)\n",
    "#isinstance can be used to check object types"
   ]
  },
  {
   "cell_type": "code",
   "execution_count": 93,
   "metadata": {
    "collapsed": false
   },
   "outputs": [
    {
     "data": {
      "text/plain": [
       "'Herbie'"
      ]
     },
     "execution_count": 93,
     "metadata": {},
     "output_type": "execute_result"
    }
   ],
   "source": [
    "#In Python3, all classes automatically inherit from object, but in Python2 you need to specifically declare it\n",
    "#Python2\n",
    "\n",
    "class Vehicle(object):\n",
    "    def __init__(self, name):\n",
    "        self.name = name\n",
    "        \n",
    "truck = Vehicle(\"Herbie\")\n",
    "truck.name"
   ]
  },
  {
   "cell_type": "code",
   "execution_count": 98,
   "metadata": {
    "collapsed": false
   },
   "outputs": [
    {
     "data": {
      "text/plain": [
       "'vrmm'"
      ]
     },
     "execution_count": 98,
     "metadata": {},
     "output_type": "execute_result"
    }
   ],
   "source": [
    "#Python3\n",
    "\n",
    "class Vehicle:\n",
    "    def __init__(self, name):\n",
    "        self.name = name\n",
    "    def sound(self):\n",
    "        return \"vrmm\"\n",
    "        \n",
    "\n",
    "car = Vehicle(\"herbie\")\n",
    "car.name\n",
    "\n",
    "car.sound()"
   ]
  },
  {
   "cell_type": "code",
   "execution_count": 104,
   "metadata": {
    "collapsed": false
   },
   "outputs": [
    {
     "data": {
      "text/plain": [
       "'VRMMVRMMVRMM'"
      ]
     },
     "execution_count": 104,
     "metadata": {},
     "output_type": "execute_result"
    }
   ],
   "source": [
    "#in Python3, invoke the super class using super()\n",
    "class LoudVehicle(Vehicle):\n",
    "    def __init__(self, name):\n",
    "        self.name = name\n",
    "    def sound(self):\n",
    "        return super().sound().upper()*3\n",
    "\n",
    "truck = LoudVehicle(\"Monster Truck\")\n",
    "truck.sound()"
   ]
  },
  {
   "cell_type": "code",
   "execution_count": 126,
   "metadata": {
    "collapsed": false
   },
   "outputs": [
    {
     "name": "stdout",
     "output_type": "stream",
     "text": [
      "The family member says wahhh\n"
     ]
    }
   ],
   "source": [
    "# a subclass can change the value\n",
    "class member:\n",
    "    sound = \"\"\n",
    "    def says(self):\n",
    "        print(\"The family member says \" + self.sound)\n",
    "    \n",
    "class lisa(member):\n",
    "    sound = \"smoke!\"\n",
    "class alistair(member):\n",
    "    sound = \"wahhh\"\n",
    "class karey(member):\n",
    "    sound = \"shhh\"\n",
    "class dan(member):\n",
    "    sound = \"love you\"\n",
    "    \n",
    "alistair().says()"
   ]
  },
  {
   "cell_type": "code",
   "execution_count": 127,
   "metadata": {
    "collapsed": true
   },
   "outputs": [],
   "source": [
    "## magic methods are surrounded by __, and are called dundir str, etc\n",
    "class money:\n",
    "    def __init__(self, dollars, cents):\n",
    "        self.dollars = dollars\n",
    "        self.cents = cents\n",
    "    def __str__(self):\n",
    "        return \"${}.{:02}\".format(self.dollars, self.cents)"
   ]
  },
  {
   "cell_type": "code",
   "execution_count": 128,
   "metadata": {
    "collapsed": false
   },
   "outputs": [
    {
     "name": "stdout",
     "output_type": "stream",
     "text": [
      "$2.03\n"
     ]
    }
   ],
   "source": [
    "print(money(2,3))"
   ]
  },
  {
   "cell_type": "code",
   "execution_count": 129,
   "metadata": {
    "collapsed": false
   },
   "outputs": [
    {
     "name": "stdout",
     "output_type": "stream",
     "text": [
      "$500.85\n"
     ]
    }
   ],
   "source": [
    "print(money(500,85))"
   ]
  },
  {
   "cell_type": "markdown",
   "metadata": {},
   "source": [
    "### Properties - a hybrid between a method and an attribute"
   ]
  },
  {
   "cell_type": "code",
   "execution_count": 145,
   "metadata": {
    "collapsed": false
   },
   "outputs": [
    {
     "name": "stdout",
     "output_type": "stream",
     "text": [
      "My name is Alistair Fong\n"
     ]
    }
   ],
   "source": [
    "class Person:\n",
    "    def __init__(self, first_name, last_name):\n",
    "        self.first_name = first_name\n",
    "        self.last_name = last_name\n",
    "    @property\n",
    "    def fancy_name(self):\n",
    "        return \"My name is \" + self.first_name +\" \"+ self.last_name\n",
    "\n",
    "baby = Person(\"Alistair\", \"Fong\")\n",
    "print(baby.fancy_name)"
   ]
  },
  {
   "cell_type": "markdown",
   "metadata": {},
   "source": [
    "#### Even though you define it like a method, you call it like an attribute"
   ]
  },
  {
   "cell_type": "markdown",
   "metadata": {},
   "source": [
    "#### It is also read-only - so you can use it to define a read-only attribute"
   ]
  },
  {
   "cell_type": "markdown",
   "metadata": {},
   "source": [
    "#### But, you can make a property settable using an extra, special setter method"
   ]
  },
  {
   "cell_type": "code",
   "execution_count": 155,
   "metadata": {
    "collapsed": false
   },
   "outputs": [
    {
     "data": {
      "text/plain": [
       "'My name is Myshka Shumansky'"
      ]
     },
     "execution_count": 155,
     "metadata": {},
     "output_type": "execute_result"
    }
   ],
   "source": [
    "class Person:\n",
    "    def __init__(self, first_name, last_name):\n",
    "        self.first_name = first_name\n",
    "        self.last_name = last_name\n",
    "    @property\n",
    "    def fancy_name(self):\n",
    "        return \"My name is \" + self.first_name +\" \"+ self.last_name\n",
    "    @fancy_name.setter\n",
    "    def fancy_name(self, value):\n",
    "        first_name, last_name = value.split(\" \")\n",
    "        self.first_name = first_name\n",
    "        self.last_name = last_name\n",
    "        \n",
    "cat = Person(\"Myshka\", \"Shumansky\")\n",
    "cat.fancy_name"
   ]
  },
  {
   "cell_type": "code",
   "execution_count": 156,
   "metadata": {
    "collapsed": false
   },
   "outputs": [],
   "source": [
    "cat.fancy_name = \"Ziggy Shumansky\""
   ]
  },
  {
   "cell_type": "code",
   "execution_count": 157,
   "metadata": {
    "collapsed": false
   },
   "outputs": [
    {
     "data": {
      "text/plain": [
       "'My name is Ziggy Shumansky'"
      ]
     },
     "execution_count": 157,
     "metadata": {},
     "output_type": "execute_result"
    }
   ],
   "source": [
    "cat.fancy_name"
   ]
  },
  {
   "cell_type": "code",
   "execution_count": 158,
   "metadata": {
    "collapsed": false
   },
   "outputs": [
    {
     "data": {
      "text/plain": [
       "'Ziggy'"
      ]
     },
     "execution_count": 158,
     "metadata": {},
     "output_type": "execute_result"
    }
   ],
   "source": [
    "cat.first_name"
   ]
  },
  {
   "cell_type": "code",
   "execution_count": 159,
   "metadata": {
    "collapsed": false
   },
   "outputs": [
    {
     "data": {
      "text/plain": [
       "'Shumansky'"
      ]
     },
     "execution_count": 159,
     "metadata": {},
     "output_type": "execute_result"
    }
   ],
   "source": [
    "cat.last_name"
   ]
  },
  {
   "cell_type": "code",
   "execution_count": 160,
   "metadata": {
    "collapsed": true
   },
   "outputs": [],
   "source": [
    "guy = Person(\"Joe\", \"Smith\")\n",
    "guy.fancy_name = \"Paul Mall\""
   ]
  },
  {
   "cell_type": "code",
   "execution_count": 161,
   "metadata": {
    "collapsed": false
   },
   "outputs": [
    {
     "data": {
      "text/plain": [
       "'Paul'"
      ]
     },
     "execution_count": 161,
     "metadata": {},
     "output_type": "execute_result"
    }
   ],
   "source": [
    "guy.first_name"
   ]
  },
  {
   "cell_type": "markdown",
   "metadata": {},
   "source": [
    "#### A useful setter pattern is to ensure a value is within the correct range"
   ]
  },
  {
   "cell_type": "code",
   "execution_count": 187,
   "metadata": {
    "collapsed": false
   },
   "outputs": [
    {
     "name": "stdout",
     "output_type": "stream",
     "text": [
      "3.75\n",
      "9\n",
      "100\n"
     ]
    }
   ],
   "source": [
    "class Ticket:\n",
    "    def __init__(self, price):\n",
    "        self._price = price\n",
    "    @property\n",
    "    def price(self):\n",
    "        return self._price\n",
    "    @price.setter\n",
    "    def price(self, new_price):\n",
    "        if new_price < 0:\n",
    "            raise ValueError(\"Nice Try\")\n",
    "        else:\n",
    "            self._price = new_price\n",
    "            \n",
    "Beyonce = Ticket(3.75)\n",
    "print(Beyonce.price)\n",
    "Beyonce.price = 9\n",
    "print(Beyonce.price)\n",
    "Beyonce.price = 100\n",
    "print(Beyonce.price)"
   ]
  },
  {
   "cell_type": "code",
   "execution_count": 192,
   "metadata": {
    "collapsed": false
   },
   "outputs": [
    {
     "name": "stdout",
     "output_type": "stream",
     "text": [
      "65\n",
      "floor\n"
     ]
    },
    {
     "ename": "ValueError",
     "evalue": "Wrong Section",
     "output_type": "error",
     "traceback": [
      "\u001b[0;31m---------------------------------------------------------------------------\u001b[0m",
      "\u001b[0;31mValueError\u001b[0m                                Traceback (most recent call last)",
      "\u001b[0;32m<ipython-input-192-1980b03a9a10>\u001b[0m in \u001b[0;36m<module>\u001b[0;34m()\u001b[0m\n\u001b[1;32m     19\u001b[0m \u001b[0mprint\u001b[0m\u001b[0;34m(\u001b[0m\u001b[0mmy_ticket\u001b[0m\u001b[0;34m.\u001b[0m\u001b[0mprice\u001b[0m\u001b[0;34m)\u001b[0m\u001b[0;34m\u001b[0m\u001b[0m\n\u001b[1;32m     20\u001b[0m \u001b[0mprint\u001b[0m\u001b[0;34m(\u001b[0m\u001b[0mmy_ticket\u001b[0m\u001b[0;34m.\u001b[0m\u001b[0msection\u001b[0m\u001b[0;34m)\u001b[0m\u001b[0;34m\u001b[0m\u001b[0m\n\u001b[0;32m---> 21\u001b[0;31m \u001b[0mmy_ticket\u001b[0m\u001b[0;34m.\u001b[0m\u001b[0msection\u001b[0m \u001b[0;34m=\u001b[0m \u001b[0;34m\"Upper Mezzanine\"\u001b[0m\u001b[0;34m\u001b[0m\u001b[0m\n\u001b[0m",
      "\u001b[0;32m<ipython-input-192-1980b03a9a10>\u001b[0m in \u001b[0;36msection\u001b[0;34m(self, new_section)\u001b[0m\n\u001b[1;32m     13\u001b[0m     \u001b[0;32mdef\u001b[0m \u001b[0msection\u001b[0m\u001b[0;34m(\u001b[0m\u001b[0mself\u001b[0m\u001b[0;34m,\u001b[0m \u001b[0mnew_section\u001b[0m\u001b[0;34m)\u001b[0m\u001b[0;34m:\u001b[0m\u001b[0;34m\u001b[0m\u001b[0m\n\u001b[1;32m     14\u001b[0m         \u001b[0;32mif\u001b[0m \u001b[0mnew_section\u001b[0m \u001b[0;32mnot\u001b[0m \u001b[0;32min\u001b[0m \u001b[0;34m[\u001b[0m\u001b[0;34m\"floor\"\u001b[0m\u001b[0;34m,\u001b[0m \u001b[0;34m\"lower\"\u001b[0m\u001b[0;34m,\u001b[0m \u001b[0;34m\"mezzanine\"\u001b[0m\u001b[0;34m,\u001b[0m \u001b[0;34m\"premier\"\u001b[0m\u001b[0;34m]\u001b[0m\u001b[0;34m:\u001b[0m\u001b[0;34m\u001b[0m\u001b[0m\n\u001b[0;32m---> 15\u001b[0;31m             \u001b[0;32mraise\u001b[0m \u001b[0mValueError\u001b[0m\u001b[0;34m(\u001b[0m\u001b[0;34m\"Wrong Section\"\u001b[0m\u001b[0;34m)\u001b[0m\u001b[0;34m\u001b[0m\u001b[0m\n\u001b[0m\u001b[1;32m     16\u001b[0m         \u001b[0mself\u001b[0m\u001b[0;34m.\u001b[0m\u001b[0m_section\u001b[0m \u001b[0;34m=\u001b[0m \u001b[0mnew_section\u001b[0m\u001b[0;34m\u001b[0m\u001b[0m\n\u001b[1;32m     17\u001b[0m \u001b[0;34m\u001b[0m\u001b[0m\n",
      "\u001b[0;31mValueError\u001b[0m: Wrong Section"
     ]
    }
   ],
   "source": [
    "\n",
    "class ConcertTicket:\n",
    "    def __init__(self, price, section):\n",
    "        self._price = price\n",
    "        self._section = section\n",
    "    @property\n",
    "    def price(self):\n",
    "        return self._price\n",
    "    @property\n",
    "    def section(self):\n",
    "        return self._section\n",
    "    @section.setter\n",
    "    def section(self, new_section):\n",
    "        if new_section not in [\"floor\", \"lower\", \"mezzanine\", \"premier\"]:\n",
    "            raise ValueError(\"Wrong Section\")\n",
    "        self._section = new_section\n",
    "        \n",
    "my_ticket = ConcertTicket(65, \"floor\")\n",
    "print(my_ticket.price)\n",
    "print(my_ticket.section)\n",
    "my_ticket.section = \"Upper Mezzanine\""
   ]
  },
  {
   "cell_type": "markdown",
   "metadata": {},
   "source": [
    "### @classmethod is a built in decorator that is applied to class methods - the method becomes associated with the class itself. We can do this instead of creating factory functions or subclasses!"
   ]
  },
  {
   "cell_type": "code",
   "execution_count": 201,
   "metadata": {
    "collapsed": false
   },
   "outputs": [
    {
     "name": "stdout",
     "output_type": "stream",
     "text": [
      "50\n",
      "75\n"
     ]
    }
   ],
   "source": [
    "class Money:\n",
    "    def __init__(self, dollars, cents):\n",
    "        self.dollars = dollars\n",
    "        self.cents = cents\n",
    "    @classmethod\n",
    "    def from_pennies(cls, num_pennies):\n",
    "        dollars, cents = divmod(num_pennies, 100)\n",
    "        return cls(dollars, cents)\n",
    "    \n",
    "my_money = Money.from_pennies(5075)\n",
    "print(my_money.dollars)\n",
    "\n",
    "class TipMoney(Money):\n",
    "    pass\n",
    "\n",
    "tip = TipMoney.from_pennies(675)\n",
    "print(tip.cents)"
   ]
  },
  {
   "cell_type": "code",
   "execution_count": 205,
   "metadata": {
    "collapsed": false
   },
   "outputs": [
    {
     "name": "stdout",
     "output_type": "stream",
     "text": [
      "31\n",
      "45\n"
     ]
    }
   ],
   "source": [
    "# you call if off the class itself, not an instance of the class - it's like an extra constructor\n",
    "piggy_bank_class = Money.from_pennies(3145)\n",
    "print(piggy_bank_class.dollars)\n",
    "print(piggy_bank_class.cents)"
   ]
  },
  {
   "cell_type": "markdown",
   "metadata": {},
   "source": [
    "### Observer pattern observes a one to many relationship among objects - also called __Pub-Sub__"
   ]
  },
  {
   "cell_type": "markdown",
   "metadata": {},
   "source": [
    "#### One central object called the \"Publisher\" watches for event happening to other objects"
   ]
  },
  {
   "cell_type": "markdown",
   "metadata": {},
   "source": [
    "#### Another set of objects, called \"Subscribers\" wait for the Publisher to tell them what to do\n",
    "\n"
   ]
  },
  {
   "cell_type": "code",
   "execution_count": 214,
   "metadata": {
    "collapsed": false
   },
   "outputs": [
    {
     "name": "stdout",
     "output_type": "stream",
     "text": [
      "Dan got message \"I love you.\"\n"
     ]
    }
   ],
   "source": [
    "# in the simplest form, each subscriber has a method called update that takes a message\n",
    "class Subscriber:\n",
    "    def __init__(self, name):\n",
    "        self.name = name\n",
    "    def update(self, message):\n",
    "        print('{} got message \"{}\"'.format(self.name, message))\n",
    "        \n",
    "new_sub = Subscriber(\"Dan\")\n",
    "new_sub.update(\"I love you.\")\n",
    "        \n",
    "##publisher invokes that update method"
   ]
  },
  {
   "cell_type": "code",
   "execution_count": 221,
   "metadata": {
    "collapsed": false
   },
   "outputs": [
    {
     "name": "stdout",
     "output_type": "stream",
     "text": [
      "Bob got message \"It's raining\"\n",
      "Dan got message \"It's raining\"\n",
      "Mary got message \"It's raining\"\n",
      "Bob got message \"It's lunchtime\"\n",
      "Dan got message \"It's lunchtime\"\n"
     ]
    }
   ],
   "source": [
    "#subscriber must tell the publisher that it wants to get messages so it will subscribe to them\n",
    "class Publisher:\n",
    "    def __init__(self):\n",
    "        self.subscribers = set()\n",
    "    def register(self, who):\n",
    "        self.subscribers.add(who)\n",
    "    def unregister(self, who):\n",
    "        self.subscribers.remove(who)\n",
    "    #publisher can send alert to all the subscribers when a new message is available\n",
    "    def alert(self, message):\n",
    "        for subscriber in self.subscribers:\n",
    "            subscriber.update(message)\n",
    "            \n",
    "pub = Publisher()\n",
    "bob = Subscriber(\"Bob\")\n",
    "mary = Subscriber(\"Mary\")\n",
    "dan = Subscriber(\"Dan\")\n",
    "\n",
    "pub.register(bob)\n",
    "pub.register(mary)\n",
    "pub.register(dan)\n",
    "\n",
    "pub.alert(\"It's raining\")\n",
    "pub.unregister(mary)\n",
    "pub.alert(\"It's lunchtime\")\n"
   ]
  },
  {
   "cell_type": "code",
   "execution_count": 226,
   "metadata": {
    "collapsed": false
   },
   "outputs": [
    {
     "name": "stdout",
     "output_type": "stream",
     "text": [
      "Jody got message \"It's raining\"\n",
      "Rad got message \"It's raining\"\n",
      "Jody got message \"It's pouring\"\n",
      "Rad got message \"It's pouring\"\n"
     ]
    }
   ],
   "source": [
    "#subscriber can register a method other than update\n",
    "class SubscriberOne:\n",
    "    def __init__(self, name):\n",
    "        self.name = name\n",
    "    def update(self, message):\n",
    "        print('{} got message \"{}\"'.format(self.name, message))\n",
    "\n",
    "class SubscriberTwo:\n",
    "    def __init__(self, name):\n",
    "        self.name = name\n",
    "    def receive(self, message):\n",
    "        print('{} got message \"{}\"'.format(self.name, message))\n",
    "        \n",
    "#implement this into the Publisher\n",
    "class Publisher:\n",
    "    def __init__(self):\n",
    "        self.subscribers = dict()\n",
    "    def register(self, who, callback = None):\n",
    "        if callback == None:\n",
    "            callback = getattr(who, 'update')\n",
    "        self.subscribers[who] = callback\n",
    "    def alert(self, message):\n",
    "        for subscriber, callback in self.subscribers.items():\n",
    "            callback(message)\n",
    "            \n",
    "jody = SubscriberOne(\"Jody\")\n",
    "rachel = SubscriberOne(\"Rachel\")\n",
    "rad = SubscriberTwo(\"Rad\")\n",
    "\n",
    "new_pub = Publisher()\n",
    "new_pub.register(jody, jody.update)\n",
    "new_pub.register(rad, rad.receive)\n",
    "\n",
    "new_pub.alert(\"It's raining\")\n",
    "new_pub.alert(\"It's pouring\")"
   ]
  },
  {
   "cell_type": "code",
   "execution_count": 245,
   "metadata": {
    "collapsed": false
   },
   "outputs": [
    {
     "name": "stdout",
     "output_type": "stream",
     "text": [
      "Dan got message \"it's lunchtime\"\n",
      "Alistair got message \"it's dinnertime\"\n",
      "Catherine got message \"it's dinnertime\"\n"
     ]
    }
   ],
   "source": [
    "#how about for different event types:\n",
    "class Publisher:\n",
    "    def __init__(self, channels):\n",
    "        #maps different channel names to the subscribers\n",
    "        self.channels = {channel : dict()\n",
    "                        for channel in channels}\n",
    "    def register(self, who, channel, callback=None):\n",
    "        if callback == None:\n",
    "            callback = getattr(who, 'update')\n",
    "        self.subscribers(channel)[who] = callback\n",
    "    def subscribers(self, channel):\n",
    "        return self.channels[channel]\n",
    "    def alert(self, channel, message):\n",
    "        subs = self.subscribers(channel)\n",
    "        for subscriber, callback in subs.items():\n",
    "            callback(message)\n",
    "\n",
    "pub = Publisher([\"lunch\", \"dinner\"])\n",
    "\n",
    "dan = Subscriber(\"Dan\")\n",
    "catherine = Subscriber(\"Catherine\")\n",
    "alistair = Subscriber(\"Alistair\")\n",
    "pub.register(dan, \"lunch\")\n",
    "pub.register(catherine,  \"dinner\")\n",
    "pub.register(alistair, \"dinner\")\n",
    "\n",
    "pub.alert(\"lunch\", \"it's lunchtime\")\n",
    "pub.alert(\"dinner\", \"it's dinnertime\")\n"
   ]
  },
  {
   "cell_type": "markdown",
   "metadata": {},
   "source": [
    "### Main Guard"
   ]
  },
  {
   "cell_type": "markdown",
   "metadata": {},
   "source": [
    "\\__name\\__ is a magic variable set to \\__main\\__ if it's in the main executable file or the current module name otherwise"
   ]
  },
  {
   "cell_type": "code",
   "execution_count": 251,
   "metadata": {
    "collapsed": false
   },
   "outputs": [
    {
     "name": "stdout",
     "output_type": "stream",
     "text": [
      "__name__ in hello.py __main__\n",
      "Hello!\n"
     ]
    }
   ],
   "source": [
    "#example hello.py\n",
    "print(\"__name__ in hello.py \" + __name__)\n",
    "def greet():\n",
    "    print(\"Hello!\")\n",
    "if __name__ == \"__main__\":\n",
    "    greet()"
   ]
  },
  {
   "cell_type": "code",
   "execution_count": 253,
   "metadata": {
    "collapsed": false
   },
   "outputs": [
    {
     "name": "stdout",
     "output_type": "stream",
     "text": [
      "__name__ in use_say_hello.py __main__\n"
     ]
    },
    {
     "ename": "ImportError",
     "evalue": "No module named 'hello'",
     "output_type": "error",
     "traceback": [
      "\u001b[0;31m---------------------------------------------------------------------------\u001b[0m",
      "\u001b[0;31mImportError\u001b[0m                               Traceback (most recent call last)",
      "\u001b[0;32m<ipython-input-253-6c417fabac76>\u001b[0m in \u001b[0;36m<module>\u001b[0;34m()\u001b[0m\n\u001b[1;32m      1\u001b[0m \u001b[0;31m#example use_say_hello.py\u001b[0m\u001b[0;34m\u001b[0m\u001b[0;34m\u001b[0m\u001b[0m\n\u001b[1;32m      2\u001b[0m \u001b[0mprint\u001b[0m\u001b[0;34m(\u001b[0m\u001b[0;34m\"__name__ in use_say_hello.py \"\u001b[0m \u001b[0;34m+\u001b[0m \u001b[0m__name__\u001b[0m\u001b[0;34m)\u001b[0m\u001b[0;34m\u001b[0m\u001b[0m\n\u001b[0;32m----> 3\u001b[0;31m \u001b[0;32mfrom\u001b[0m \u001b[0mhello\u001b[0m \u001b[0;32mimport\u001b[0m \u001b[0mgreet\u001b[0m\u001b[0;34m\u001b[0m\u001b[0m\n\u001b[0m\u001b[1;32m      4\u001b[0m \u001b[0;32mif\u001b[0m \u001b[0m__name__\u001b[0m \u001b[0;34m==\u001b[0m \u001b[0;34m\"__main__\"\u001b[0m\u001b[0;34m:\u001b[0m\u001b[0;34m\u001b[0m\u001b[0m\n\u001b[1;32m      5\u001b[0m     \u001b[0mgreet\u001b[0m\u001b[0;34m(\u001b[0m\u001b[0;34m)\u001b[0m\u001b[0;34m\u001b[0m\u001b[0m\n",
      "\u001b[0;31mImportError\u001b[0m: No module named 'hello'"
     ]
    }
   ],
   "source": [
    "#example use_say_hello.py\n",
    "print(\"__name__ in use_say_hello.py \" + __name__)\n",
    "from hello import greet\n",
    "if __name__ == \"__main__\":\n",
    "    greet()\n",
    "    \n",
    "#will say in script:\n",
    "#__name__ in use_say_hello.py __main__\n",
    "#__name__ in hello.py hello"
   ]
  },
  {
   "cell_type": "markdown",
   "metadata": {},
   "source": [
    "## Reusable code in a single file is called a *module*. The same code split into multiple files is called a *package*"
   ]
  },
  {
   "cell_type": "markdown",
   "metadata": {},
   "source": []
  },
  {
   "cell_type": "code",
   "execution_count": null,
   "metadata": {
    "collapsed": true
   },
   "outputs": [],
   "source": []
  }
 ],
 "metadata": {
  "kernelspec": {
   "display_name": "Python [Root]",
   "language": "python",
   "name": "Python [Root]"
  },
  "language_info": {
   "codemirror_mode": {
    "name": "ipython",
    "version": 3
   },
   "file_extension": ".py",
   "mimetype": "text/x-python",
   "name": "python",
   "nbconvert_exporter": "python",
   "pygments_lexer": "ipython3",
   "version": "3.5.2"
  }
 },
 "nbformat": 4,
 "nbformat_minor": 0
}
